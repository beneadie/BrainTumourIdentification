{
 "cells": [
  {
   "cell_type": "markdown",
   "id": "84e27647",
   "metadata": {},
   "source": [
    "## Implementation of Final Solution"
   ]
  },
  {
   "cell_type": "markdown",
   "id": "c99a7220",
   "metadata": {},
   "source": [
    "- model has a score of ~95% on the mixed test data which includes MRI scans from three different datasets.\n",
    "- model has a missed positive rate of 0.81% to give extra caution.\n",
    "- chance of getting a false positive is ~10%.\n",
    "- code can be copied from here to recreate the model.\n",
    "- all model files should be located within an application under the same names.\n",
    "- in order to run model all you need to install is python 3.x, tensorflow and numpy.\n",
    "- model takes about a quarter of second to run and needs image data with dimensions: \n",
    "    >image_height = 128\n",
    "    >image_width = 128"
   ]
  },
  {
   "cell_type": "code",
   "execution_count": 28,
   "id": "8b61f6b9",
   "metadata": {},
   "outputs": [],
   "source": [
    "import os\n",
    "import tensorflow as tf\n",
    "from tensorflow import keras\n",
    "from tensorflow.keras import layers\n",
    "from tensorflow.keras.preprocessing.image import ImageDataGenerator\n",
    "import numpy as np\n",
    "import matplotlib.pyplot as plt\n",
    "\n",
    "from time import time\n",
    "from tensorflow.keras.models import Sequential\n",
    "from collections import defaultdict\n",
    "from tensorflow.keras.layers import LeakyReLU"
   ]
  },
  {
   "cell_type": "markdown",
   "id": "658987fa",
   "metadata": {},
   "source": [
    "- Models from the two compatible datasets\n",
    "- Not necessary to include Model 1D but can be added for high amount of Bias against false negatives"
   ]
  },
  {
   "cell_type": "code",
   "execution_count": 4,
   "id": "908fc059",
   "metadata": {},
   "outputs": [
    {
     "name": "stdout",
     "output_type": "stream",
     "text": [
      "WARNING:tensorflow:Using a while_loop for converting RngReadAndSkip cause there is no registered converter for this op.\n",
      "WARNING:tensorflow:Using a while_loop for converting Bitcast cause there is no registered converter for this op.\n",
      "WARNING:tensorflow:Using a while_loop for converting Bitcast cause there is no registered converter for this op.\n",
      "WARNING:tensorflow:Using a while_loop for converting StatelessRandomUniformFullIntV2 cause there is no registered converter for this op.\n",
      "WARNING:tensorflow:Using a while_loop for converting StatelessRandomGetKeyCounter cause there is no registered converter for this op.\n",
      "WARNING:tensorflow:Using a while_loop for converting StatelessRandomUniformV2 cause there is no registered converter for this op.\n",
      "WARNING:tensorflow:Using a while_loop for converting RngReadAndSkip cause there is no registered converter for this op.\n",
      "WARNING:tensorflow:Using a while_loop for converting Bitcast cause there is no registered converter for this op.\n",
      "WARNING:tensorflow:Using a while_loop for converting Bitcast cause there is no registered converter for this op.\n",
      "WARNING:tensorflow:Using a while_loop for converting StatelessRandomUniformV2 cause there is no registered converter for this op.\n",
      "WARNING:tensorflow:Using a while_loop for converting ImageProjectiveTransformV3 cause there is no registered converter for this op.\n",
      "WARNING:tensorflow:Using a while_loop for converting RngReadAndSkip cause there is no registered converter for this op.\n",
      "WARNING:tensorflow:Using a while_loop for converting Bitcast cause there is no registered converter for this op.\n",
      "WARNING:tensorflow:Using a while_loop for converting Bitcast cause there is no registered converter for this op.\n",
      "WARNING:tensorflow:Using a while_loop for converting StatelessRandomUniformFullIntV2 cause there is no registered converter for this op.\n",
      "WARNING:tensorflow:Using a while_loop for converting StatelessRandomGetKeyCounter cause there is no registered converter for this op.\n",
      "WARNING:tensorflow:Using a while_loop for converting StatelessRandomUniformV2 cause there is no registered converter for this op.\n",
      "WARNING:tensorflow:Using a while_loop for converting RngReadAndSkip cause there is no registered converter for this op.\n",
      "WARNING:tensorflow:Using a while_loop for converting Bitcast cause there is no registered converter for this op.\n",
      "WARNING:tensorflow:Using a while_loop for converting Bitcast cause there is no registered converter for this op.\n",
      "WARNING:tensorflow:Using a while_loop for converting StatelessRandomUniformV2 cause there is no registered converter for this op.\n",
      "WARNING:tensorflow:Using a while_loop for converting ImageProjectiveTransformV3 cause there is no registered converter for this op.\n",
      "WARNING:tensorflow:Using a while_loop for converting RngReadAndSkip cause there is no registered converter for this op.\n",
      "WARNING:tensorflow:Using a while_loop for converting Bitcast cause there is no registered converter for this op.\n",
      "WARNING:tensorflow:Using a while_loop for converting Bitcast cause there is no registered converter for this op.\n",
      "WARNING:tensorflow:Using a while_loop for converting StatelessRandomUniformV2 cause there is no registered converter for this op.\n",
      "WARNING:tensorflow:Using a while_loop for converting ImageProjectiveTransformV3 cause there is no registered converter for this op.\n",
      "WARNING:tensorflow:Using a while_loop for converting RngReadAndSkip cause there is no registered converter for this op.\n",
      "WARNING:tensorflow:Using a while_loop for converting Bitcast cause there is no registered converter for this op.\n",
      "WARNING:tensorflow:Using a while_loop for converting Bitcast cause there is no registered converter for this op.\n",
      "WARNING:tensorflow:Using a while_loop for converting StatelessRandomUniformV2 cause there is no registered converter for this op.\n",
      "WARNING:tensorflow:Using a while_loop for converting ImageProjectiveTransformV3 cause there is no registered converter for this op.\n",
      "WARNING:tensorflow:Using a while_loop for converting RngReadAndSkip cause there is no registered converter for this op.\n",
      "WARNING:tensorflow:Using a while_loop for converting Bitcast cause there is no registered converter for this op.\n",
      "WARNING:tensorflow:Using a while_loop for converting Bitcast cause there is no registered converter for this op.\n",
      "WARNING:tensorflow:Using a while_loop for converting StatelessRandomUniformV2 cause there is no registered converter for this op.\n",
      "WARNING:tensorflow:Using a while_loop for converting ImageProjectiveTransformV3 cause there is no registered converter for this op.\n",
      "WARNING:tensorflow:Using a while_loop for converting RngReadAndSkip cause there is no registered converter for this op.\n",
      "WARNING:tensorflow:Using a while_loop for converting Bitcast cause there is no registered converter for this op.\n",
      "WARNING:tensorflow:Using a while_loop for converting Bitcast cause there is no registered converter for this op.\n",
      "WARNING:tensorflow:Using a while_loop for converting StatelessRandomUniformV2 cause there is no registered converter for this op.\n",
      "WARNING:tensorflow:Using a while_loop for converting ImageProjectiveTransformV3 cause there is no registered converter for this op.\n",
      "WARNING:tensorflow:Using a while_loop for converting RngReadAndSkip cause there is no registered converter for this op.\n",
      "WARNING:tensorflow:Using a while_loop for converting Bitcast cause there is no registered converter for this op.\n",
      "WARNING:tensorflow:Using a while_loop for converting Bitcast cause there is no registered converter for this op.\n",
      "WARNING:tensorflow:Using a while_loop for converting StatelessRandomUniformFullIntV2 cause there is no registered converter for this op.\n",
      "WARNING:tensorflow:Using a while_loop for converting StatelessRandomGetKeyCounter cause there is no registered converter for this op.\n",
      "WARNING:tensorflow:Using a while_loop for converting StatelessRandomUniformV2 cause there is no registered converter for this op.\n",
      "WARNING:tensorflow:Using a while_loop for converting RngReadAndSkip cause there is no registered converter for this op.\n",
      "WARNING:tensorflow:Using a while_loop for converting Bitcast cause there is no registered converter for this op.\n",
      "WARNING:tensorflow:Using a while_loop for converting Bitcast cause there is no registered converter for this op.\n",
      "WARNING:tensorflow:Using a while_loop for converting StatelessRandomUniformV2 cause there is no registered converter for this op.\n",
      "WARNING:tensorflow:Using a while_loop for converting ImageProjectiveTransformV3 cause there is no registered converter for this op.\n",
      "WARNING:tensorflow:Using a while_loop for converting RngReadAndSkip cause there is no registered converter for this op.\n",
      "WARNING:tensorflow:Using a while_loop for converting Bitcast cause there is no registered converter for this op.\n",
      "WARNING:tensorflow:Using a while_loop for converting Bitcast cause there is no registered converter for this op.\n",
      "WARNING:tensorflow:Using a while_loop for converting StatelessRandomUniformFullIntV2 cause there is no registered converter for this op.\n",
      "WARNING:tensorflow:Using a while_loop for converting StatelessRandomGetKeyCounter cause there is no registered converter for this op.\n",
      "WARNING:tensorflow:Using a while_loop for converting StatelessRandomUniformV2 cause there is no registered converter for this op.\n",
      "WARNING:tensorflow:Using a while_loop for converting RngReadAndSkip cause there is no registered converter for this op.\n",
      "WARNING:tensorflow:Using a while_loop for converting Bitcast cause there is no registered converter for this op.\n",
      "WARNING:tensorflow:Using a while_loop for converting Bitcast cause there is no registered converter for this op.\n",
      "WARNING:tensorflow:Using a while_loop for converting StatelessRandomUniformV2 cause there is no registered converter for this op.\n",
      "WARNING:tensorflow:Using a while_loop for converting ImageProjectiveTransformV3 cause there is no registered converter for this op.\n"
     ]
    }
   ],
   "source": [
    "model1A = keras.models.load_model('./model_1A') #no augmentation or dropout - accuracy 95.41%\n",
    "model1B = keras.models.load_model('./model_1B') # high number or neurons, epochs and augmentation - accuracy 94.6%\n",
    "model1C = keras.models.load_model('./model_1C') # no dropout and limited augmentation - accuracy 96.13%\n",
    "# model1D = keras.models.load_model('./model_1D') # 76.15% - bias to reduce false negatives\n",
    "model1E = keras.models.load_model('./model_1E') # leaky relu model - accuracy 96.64%"
   ]
  },
  {
   "cell_type": "markdown",
   "id": "0f91a596",
   "metadata": {},
   "source": [
    "- Models for the Dataset which includes diagnosis"
   ]
  },
  {
   "cell_type": "code",
   "execution_count": 5,
   "id": "0a083e0f",
   "metadata": {},
   "outputs": [
    {
     "name": "stdout",
     "output_type": "stream",
     "text": [
      "WARNING:tensorflow:Using a while_loop for converting RngReadAndSkip cause there is no registered converter for this op.\n",
      "WARNING:tensorflow:Using a while_loop for converting Bitcast cause there is no registered converter for this op.\n",
      "WARNING:tensorflow:Using a while_loop for converting Bitcast cause there is no registered converter for this op.\n",
      "WARNING:tensorflow:Using a while_loop for converting StatelessRandomUniformFullIntV2 cause there is no registered converter for this op.\n",
      "WARNING:tensorflow:Using a while_loop for converting StatelessRandomGetKeyCounter cause there is no registered converter for this op.\n",
      "WARNING:tensorflow:Using a while_loop for converting StatelessRandomUniformV2 cause there is no registered converter for this op.\n",
      "WARNING:tensorflow:Using a while_loop for converting RngReadAndSkip cause there is no registered converter for this op.\n",
      "WARNING:tensorflow:Using a while_loop for converting Bitcast cause there is no registered converter for this op.\n",
      "WARNING:tensorflow:Using a while_loop for converting Bitcast cause there is no registered converter for this op.\n",
      "WARNING:tensorflow:Using a while_loop for converting StatelessRandomUniformV2 cause there is no registered converter for this op.\n",
      "WARNING:tensorflow:Using a while_loop for converting ImageProjectiveTransformV3 cause there is no registered converter for this op.\n",
      "WARNING:tensorflow:Using a while_loop for converting RngReadAndSkip cause there is no registered converter for this op.\n",
      "WARNING:tensorflow:Using a while_loop for converting Bitcast cause there is no registered converter for this op.\n",
      "WARNING:tensorflow:Using a while_loop for converting Bitcast cause there is no registered converter for this op.\n",
      "WARNING:tensorflow:Using a while_loop for converting StatelessRandomUniformFullIntV2 cause there is no registered converter for this op.\n",
      "WARNING:tensorflow:Using a while_loop for converting StatelessRandomGetKeyCounter cause there is no registered converter for this op.\n",
      "WARNING:tensorflow:Using a while_loop for converting StatelessRandomUniformV2 cause there is no registered converter for this op.\n",
      "WARNING:tensorflow:Using a while_loop for converting RngReadAndSkip cause there is no registered converter for this op.\n",
      "WARNING:tensorflow:Using a while_loop for converting Bitcast cause there is no registered converter for this op.\n",
      "WARNING:tensorflow:Using a while_loop for converting Bitcast cause there is no registered converter for this op.\n",
      "WARNING:tensorflow:Using a while_loop for converting StatelessRandomUniformV2 cause there is no registered converter for this op.\n",
      "WARNING:tensorflow:Using a while_loop for converting ImageProjectiveTransformV3 cause there is no registered converter for this op.\n",
      "WARNING:tensorflow:Using a while_loop for converting RngReadAndSkip cause there is no registered converter for this op.\n",
      "WARNING:tensorflow:Using a while_loop for converting Bitcast cause there is no registered converter for this op.\n",
      "WARNING:tensorflow:Using a while_loop for converting Bitcast cause there is no registered converter for this op.\n",
      "WARNING:tensorflow:Using a while_loop for converting StatelessRandomUniformFullIntV2 cause there is no registered converter for this op.\n",
      "WARNING:tensorflow:Using a while_loop for converting StatelessRandomGetKeyCounter cause there is no registered converter for this op.\n",
      "WARNING:tensorflow:Using a while_loop for converting StatelessRandomUniformV2 cause there is no registered converter for this op.\n",
      "WARNING:tensorflow:Using a while_loop for converting RngReadAndSkip cause there is no registered converter for this op.\n",
      "WARNING:tensorflow:Using a while_loop for converting Bitcast cause there is no registered converter for this op.\n",
      "WARNING:tensorflow:Using a while_loop for converting Bitcast cause there is no registered converter for this op.\n",
      "WARNING:tensorflow:Using a while_loop for converting StatelessRandomUniformV2 cause there is no registered converter for this op.\n",
      "WARNING:tensorflow:Using a while_loop for converting ImageProjectiveTransformV3 cause there is no registered converter for this op.\n",
      "WARNING:tensorflow:Using a while_loop for converting RngReadAndSkip cause there is no registered converter for this op.\n",
      "WARNING:tensorflow:Using a while_loop for converting Bitcast cause there is no registered converter for this op.\n",
      "WARNING:tensorflow:Using a while_loop for converting Bitcast cause there is no registered converter for this op.\n",
      "WARNING:tensorflow:Using a while_loop for converting StatelessRandomUniformFullIntV2 cause there is no registered converter for this op.\n",
      "WARNING:tensorflow:Using a while_loop for converting StatelessRandomGetKeyCounter cause there is no registered converter for this op.\n",
      "WARNING:tensorflow:Using a while_loop for converting StatelessRandomUniformV2 cause there is no registered converter for this op.\n",
      "WARNING:tensorflow:Using a while_loop for converting RngReadAndSkip cause there is no registered converter for this op.\n",
      "WARNING:tensorflow:Using a while_loop for converting Bitcast cause there is no registered converter for this op.\n",
      "WARNING:tensorflow:Using a while_loop for converting Bitcast cause there is no registered converter for this op.\n",
      "WARNING:tensorflow:Using a while_loop for converting StatelessRandomUniformV2 cause there is no registered converter for this op.\n",
      "WARNING:tensorflow:Using a while_loop for converting ImageProjectiveTransformV3 cause there is no registered converter for this op.\n",
      "WARNING:tensorflow:Using a while_loop for converting RngReadAndSkip cause there is no registered converter for this op.\n",
      "WARNING:tensorflow:Using a while_loop for converting Bitcast cause there is no registered converter for this op.\n",
      "WARNING:tensorflow:Using a while_loop for converting Bitcast cause there is no registered converter for this op.\n",
      "WARNING:tensorflow:Using a while_loop for converting StatelessRandomUniformFullIntV2 cause there is no registered converter for this op.\n",
      "WARNING:tensorflow:Using a while_loop for converting StatelessRandomGetKeyCounter cause there is no registered converter for this op.\n",
      "WARNING:tensorflow:Using a while_loop for converting StatelessRandomUniformV2 cause there is no registered converter for this op.\n",
      "WARNING:tensorflow:Using a while_loop for converting RngReadAndSkip cause there is no registered converter for this op.\n",
      "WARNING:tensorflow:Using a while_loop for converting Bitcast cause there is no registered converter for this op.\n",
      "WARNING:tensorflow:Using a while_loop for converting Bitcast cause there is no registered converter for this op.\n",
      "WARNING:tensorflow:Using a while_loop for converting StatelessRandomUniformV2 cause there is no registered converter for this op.\n",
      "WARNING:tensorflow:Using a while_loop for converting ImageProjectiveTransformV3 cause there is no registered converter for this op.\n",
      "WARNING:tensorflow:Using a while_loop for converting RngReadAndSkip cause there is no registered converter for this op.\n",
      "WARNING:tensorflow:Using a while_loop for converting Bitcast cause there is no registered converter for this op.\n",
      "WARNING:tensorflow:Using a while_loop for converting Bitcast cause there is no registered converter for this op.\n",
      "WARNING:tensorflow:Using a while_loop for converting StatelessRandomUniformFullIntV2 cause there is no registered converter for this op.\n",
      "WARNING:tensorflow:Using a while_loop for converting StatelessRandomGetKeyCounter cause there is no registered converter for this op.\n",
      "WARNING:tensorflow:Using a while_loop for converting StatelessRandomUniformV2 cause there is no registered converter for this op.\n",
      "WARNING:tensorflow:Using a while_loop for converting RngReadAndSkip cause there is no registered converter for this op.\n",
      "WARNING:tensorflow:Using a while_loop for converting Bitcast cause there is no registered converter for this op.\n",
      "WARNING:tensorflow:Using a while_loop for converting Bitcast cause there is no registered converter for this op.\n",
      "WARNING:tensorflow:Using a while_loop for converting StatelessRandomUniformV2 cause there is no registered converter for this op.\n",
      "WARNING:tensorflow:Using a while_loop for converting ImageProjectiveTransformV3 cause there is no registered converter for this op.\n"
     ]
    }
   ],
   "source": [
    "model2A = keras.models.load_model('./model_2A/') # with augmentation low dropout - accuracy 98.4%\n",
    "model2B = keras.models.load_model('./model_2B/') # high number of neurons and layer with augmentation low dropout - accuracy 97.56%\n",
    "model2C = keras.models.load_model('./model_2C/') #leaky relu low dropout with data augmentation - accuracy 98.86%\n",
    "model2D = keras.models.load_model('./model_2D/') # leaky relu higher dropout with augmentation - accuracy 97.33%"
   ]
  },
  {
   "cell_type": "markdown",
   "id": "c4ee514b",
   "metadata": {},
   "source": [
    "- seperation model"
   ]
  },
  {
   "cell_type": "code",
   "execution_count": 14,
   "id": "db260142",
   "metadata": {},
   "outputs": [],
   "source": [
    "seperation_model = keras.models.load_model('./Model3_Seperation/') # Accuracy: 78.14% - low epochs low dropout"
   ]
  },
  {
   "cell_type": "code",
   "execution_count": 7,
   "id": "026981a6",
   "metadata": {},
   "outputs": [],
   "source": [
    "import statistics\n",
    "from statistics import mode"
   ]
  },
  {
   "cell_type": "code",
   "execution_count": 11,
   "id": "92973b14",
   "metadata": {},
   "outputs": [],
   "source": [
    "YN_class_names = ['no', 'yes']\n",
    "WD_class_names = ['glioma', 'meningioma', 'no', 'pituitary']\n",
    "model_names = ['model_A_lrod', 'model_B_wd']"
   ]
  },
  {
   "cell_type": "code",
   "execution_count": 23,
   "id": "43713929",
   "metadata": {},
   "outputs": [],
   "source": [
    "def Ensemble_Model_1(img_array):\n",
    "    predictions_model1A = model1A.predict(img_array, verbose=None)\n",
    "    CLASS_model1A = YN_class_names[np.argmax(predictions_model1A)]\n",
    "    \n",
    "    predictions_model1B = model1B.predict(img_array, verbose=None)\n",
    "    CLASS_model1B = YN_class_names[np.argmax(predictions_model1B)]\n",
    "    \n",
    "    predictions_model1C = model1C.predict(img_array, verbose=None)\n",
    "    CLASS_model1C = YN_class_names[np.argmax(predictions_model1C)]\n",
    "    \n",
    "    predictions_model1E = model1E.predict(img_array, verbose=None)\n",
    "    CLASS_model1E = YN_class_names[np.argmax(predictions_model1E)]\n",
    "    \n",
    "    #predictions_model1D = model1D.predict(img_array, verbose=None)\n",
    "    #CLASS_model1D = YN_class_names[np.argmax(predictions_model1D)]    \n",
    "    \n",
    "    if \"yes\" in [CLASS_model1A, CLASS_model1B, CLASS_model1C, CLASS_model1E]: #CLASS_model1D CAN BE added if preferred\n",
    "        return \"yes\"\n",
    "    else:\n",
    "        return \"no\""
   ]
  },
  {
   "cell_type": "code",
   "execution_count": 24,
   "id": "56db5f5c",
   "metadata": {},
   "outputs": [],
   "source": [
    "def Ensemble_Model_2(img_array):\n",
    "    predictions_model2A = model2A.predict(img_array, verbose=None)\n",
    "    CLASS_model2A = WD_class_names[np.argmax(predictions_model2A)]\n",
    "    \n",
    "    predictions_model2B = model2B.predict(img_array, verbose=None)\n",
    "    CLASS_model2B = WD_class_names[np.argmax(predictions_model2B)]\n",
    "    \n",
    "    predictions_model2C = model2C.predict(img_array, verbose=None)\n",
    "    CLASS_model2C = WD_class_names[np.argmax(predictions_model2C)]\n",
    "    \n",
    "    predictions_model2D = model2D.predict(img_array, verbose=None)\n",
    "    CLASS_model2D = WD_class_names[np.argmax(predictions_model2D)]\n",
    "\n",
    "    \n",
    "    if \"glioma\" in [CLASS_model2A, CLASS_model2B, CLASS_model2C, CLASS_model2D]:\n",
    "        return \"yes\"\n",
    "    elif \"meningioma\" in [CLASS_model2A, CLASS_model2B, CLASS_model2C, CLASS_model2D]:\n",
    "        return \"yes\"\n",
    "    elif \"pituitary\" in [CLASS_model2A, CLASS_model2B, CLASS_model2C, CLASS_model2D]:\n",
    "        return \"yes\"\n",
    "    #elif \"yes\" in [CLASS_model2A, CLASS_model2B, CLASS_model2C, CLASS_model2D]:\n",
    "    #    return \"yes\" - CAN ADD IN FOR FINAL TEST\n",
    "    else:\n",
    "        return \"no\""
   ]
  },
  {
   "cell_type": "code",
   "execution_count": 25,
   "id": "04be828a",
   "metadata": {},
   "outputs": [],
   "source": [
    "def final_model(img_array):\n",
    "    prediction_models = seperation_model.predict(img_array, verbose=None)\n",
    "    predicted_model = model_names[np.argmax(prediction_models)]\n",
    "    if predicted_model == \"model_A_lrod\":\n",
    "        return Ensemble_Model_1(img_array)\n",
    "    else:\n",
    "        return Ensemble_Model_2(img_array)"
   ]
  },
  {
   "cell_type": "code",
   "execution_count": 17,
   "id": "c6c42abd",
   "metadata": {},
   "outputs": [],
   "source": [
    "batch_size = 64\n",
    "image_height = 128\n",
    "image_width = 128"
   ]
  },
  {
   "cell_type": "code",
   "execution_count": 26,
   "id": "83db24b8",
   "metadata": {},
   "outputs": [
    {
     "name": "stdout",
     "output_type": "stream",
     "text": [
      "Predciton: \t no\n",
      "CPU times: total: 78.1 ms\n",
      "Wall time: 255 ms\n"
     ]
    }
   ],
   "source": [
    "%%time\n",
    "\n",
    "image_path = \"./Testing_YesNo/no/no50.jpg\"\n",
    "\n",
    "img = tf.keras.utils.load_img(\n",
    "    image_path, target_size=(image_height, image_width)\n",
    ")\n",
    "\n",
    "img_array = tf.keras.utils.img_to_array(img)\n",
    "img_array = tf.expand_dims(img_array, 0) # Create a batch\n",
    "\n",
    "prediction = final_model(img_array)\n",
    "\n",
    "print(f\"Predciton: \\t {prediction}\")"
   ]
  },
  {
   "cell_type": "markdown",
   "id": "738c7e76",
   "metadata": {},
   "source": [
    "- wall time is under a second and the answer is correct"
   ]
  },
  {
   "cell_type": "markdown",
   "id": "63c2654e",
   "metadata": {},
   "source": [
    "## Testing model on mixed data"
   ]
  },
  {
   "cell_type": "code",
   "execution_count": 27,
   "id": "9eb4aed3",
   "metadata": {},
   "outputs": [
    {
     "name": "stdout",
     "output_type": "stream",
     "text": [
      "WARNING:tensorflow:5 out of the last 46 calls to <function Model.make_predict_function.<locals>.predict_function at 0x000001D01CA47A60> triggered tf.function retracing. Tracing is expensive and the excessive number of tracings could be due to (1) creating @tf.function repeatedly in a loop, (2) passing tensors with different shapes, (3) passing Python objects instead of tensors. For (1), please define your @tf.function outside of the loop. For (2), @tf.function has reduce_retracing=True option that can avoid unnecessary retracing. For (3), please refer to https://www.tensorflow.org/guide/function#controlling_retracing and https://www.tensorflow.org/api_docs/python/tf/function for  more details.\n",
      "Accuracy: 95.57%\n",
      "no: 87 / 855\n",
      "rate of failure: \t 10.175438596491228\n",
      "yes: 11 / 1356\n",
      "rate of failure: \t 0.8112094395280236\n",
      "CPU times: total: 3min 23s\n",
      "Wall time: 11min 11s\n"
     ]
    }
   ],
   "source": [
    "%%time\n",
    "\n",
    "\n",
    "# Create a dictionary to store false prediction counts for each class\n",
    "false_predictions = defaultdict(int)\n",
    "\n",
    "# Define the class names based on the folder names\n",
    "class_names = sorted(os.listdir('./Testing_YesNo'))  # Replace with the path to your dataset folder\n",
    "\n",
    "# Create a list to store true labels and predicted labels\n",
    "true_labels = []\n",
    "predicted_labels = []\n",
    "\n",
    "# Specify the path to the test dataset folder\n",
    "test_data_folder = './Testing_YesNo/'  # Replace with the path to your test dataset folder\n",
    "\n",
    "# Iterate through the test dataset\n",
    "for class_name in class_names:\n",
    "    class_folder = os.path.join(test_data_folder, class_name)\n",
    "    if not os.path.isdir(class_folder):\n",
    "        continue\n",
    "\n",
    "    for image_filename in os.listdir(class_folder):\n",
    "        image_path = os.path.join(class_folder, image_filename)\n",
    "\n",
    "        # Load and preprocess the image\n",
    "        img = tf.keras.utils.load_img(image_path, target_size=(image_height, image_width))\n",
    "        img_array = tf.keras.utils.img_to_array(img)\n",
    "        img_array = tf.expand_dims(img_array, 0)\n",
    "\n",
    "        # Make predictions\n",
    "        predicted_class = final_model(img_array)\n",
    "\n",
    "        # Append true and predicted labels to the lists\n",
    "        true_labels.append(class_name)\n",
    "        predicted_labels.append(predicted_class)\n",
    "        \n",
    "        # Check if the prediction is correct\n",
    "        if predicted_class != class_name:\n",
    "            false_predictions[class_name] += 1\n",
    "\n",
    "# Calculate accuracy\n",
    "correct_predictions = [true == pred for true, pred in zip(true_labels, predicted_labels)]\n",
    "accuracy = sum(correct_predictions) / len(correct_predictions)\n",
    "\n",
    "\n",
    "# Print accuracy\n",
    "print(f\"Accuracy: {accuracy * 100:.2f}%\")\n",
    "\n",
    "def getpercent(numerator, denominator):\n",
    "    return (numerator / denominator) * 100\n",
    "\n",
    "for class_name, wrong_count in false_predictions.items():\n",
    "    class_folder = os.path.join(test_data_folder, class_name)\n",
    "    files = os.listdir(class_folder)\n",
    "    total_class_count = len(files)\n",
    "    print(f\"{class_name}: {wrong_count} / {total_class_count}\")\n",
    "    print(\"rate of failure: \\t\", getpercent(wrong_count, total_class_count))\n",
    "\n",
    "\n"
   ]
  },
  {
   "cell_type": "markdown",
   "id": "8d1ad7a5",
   "metadata": {},
   "source": [
    "- very good score considiring the seperation model had below 80% accuracy\n",
    "- false negatives less than 1%\n",
    "- in reality most scans will probably not be positive so score is slightly biased but is effective at catching the tumors"
   ]
  }
 ],
 "metadata": {
  "kernelspec": {
   "display_name": "Python 3 (ipykernel)",
   "language": "python",
   "name": "python3"
  },
  "language_info": {
   "codemirror_mode": {
    "name": "ipython",
    "version": 3
   },
   "file_extension": ".py",
   "mimetype": "text/x-python",
   "name": "python",
   "nbconvert_exporter": "python",
   "pygments_lexer": "ipython3",
   "version": "3.9.12"
  }
 },
 "nbformat": 4,
 "nbformat_minor": 5
}
